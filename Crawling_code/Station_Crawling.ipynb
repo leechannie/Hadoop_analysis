{
 "cells": [
  {
   "cell_type": "markdown",
   "metadata": {},
   "source": [
    "# -  pytrends를 활용한 구 별 버스 구글 트렌드 5년 Data Crawilng"
   ]
  },
  {
   "cell_type": "markdown",
   "metadata": {},
   "source": [
    "#### * 구글 트렌드의 특성상 한 번에 5개의 키워드 밖에 검색하지 못 해 코드를 반복해서 사용함"
   ]
  },
  {
   "cell_type": "code",
   "execution_count": 1,
   "metadata": {},
   "outputs": [
    {
     "name": "stderr",
     "output_type": "stream",
     "text": [
      "C:\\ProgramData\\Anaconda3\\lib\\site-packages\\pandas\\compat\\_optional.py:138: UserWarning: Pandas requires version '2.7.0' or newer of 'numexpr' (version '2.6.8' currently installed).\n",
      "  warnings.warn(msg, UserWarning)\n"
     ]
    }
   ],
   "source": [
    "import pytrends\n",
    "from pytrends.request import TrendReq\n",
    "import pandas as pd"
   ]
  },
  {
   "cell_type": "code",
   "execution_count": 42,
   "metadata": {},
   "outputs": [],
   "source": [
    "# 구글 트렌드 연결\n",
    "pytrends = TrendReq()"
   ]
  },
  {
   "cell_type": "code",
   "execution_count": 69,
   "metadata": {},
   "outputs": [],
   "source": [
    "keywords = ['강남구 역', '강동구 역', '강북구 역', '동대문구 역', '관악구 역']"
   ]
  },
  {
   "cell_type": "code",
   "execution_count": 70,
   "metadata": {},
   "outputs": [],
   "source": [
    "# 결과를 가져오기 (5년 정보)\n",
    "pytrends.build_payload(keywords,timeframe='today 5-y', cat=71)\n",
    "interest_over_time_df = pytrends.interest_over_time() "
   ]
  },
  {
   "cell_type": "code",
   "execution_count": 71,
   "metadata": {},
   "outputs": [
    {
     "name": "stdout",
     "output_type": "stream",
     "text": [
      "            강남구 역  강동구 역  강북구 역  동대문구 역  관악구 역\n",
      "date                                          \n",
      "2016-11-27      0      0      0       0      0\n",
      "2016-12-04      0      0      0       0      0\n",
      "2016-12-11      0      0      0       0      0\n",
      "2016-12-18      0      0      0       0      0\n",
      "2016-12-25      0      0      0       0      0\n",
      "...           ...    ...    ...     ...    ...\n",
      "2021-10-24      0      0      0       0      0\n",
      "2021-10-31      0      0      0       0      0\n",
      "2021-11-07      0      0      0       0      0\n",
      "2021-11-14      0      0      0       0      0\n",
      "2021-11-21      0      0      0       0      0\n",
      "\n",
      "[261 rows x 5 columns]\n"
     ]
    }
   ],
   "source": [
    "# 마지막 isPartial을 제거하고 result 저장 \n",
    "result = interest_over_time_df.drop('isPartial', axis=1)\n",
    "\n",
    "print(result)"
   ]
  },
  {
   "cell_type": "code",
   "execution_count": 72,
   "metadata": {},
   "outputs": [],
   "source": [
    "keywords = ['송파구 역', '구로구 역', '금천구 역', '노원구 역', '도봉구 역']"
   ]
  },
  {
   "cell_type": "code",
   "execution_count": 73,
   "metadata": {},
   "outputs": [],
   "source": [
    "# 결과를 가져오기 (5년 정보)\n",
    "pytrends.build_payload(keywords,timeframe='today 5-y', cat=71)\n",
    "interest_over_time_df = pytrends.interest_over_time() "
   ]
  },
  {
   "cell_type": "code",
   "execution_count": 74,
   "metadata": {},
   "outputs": [
    {
     "name": "stdout",
     "output_type": "stream",
     "text": [
      "            강남구 역  강동구 역  강북구 역  동대문구 역  관악구 역  송파구 역  구로구 역  금천구 역  노원구 역  \\\n",
      "date                                                                         \n",
      "2016-11-27      0      0      0       0      0      0      0      0      0   \n",
      "2016-12-04      0      0      0       0      0      0      0      0      0   \n",
      "2016-12-11      0      0      0       0      0      0      0      0      0   \n",
      "2016-12-18      0      0      0       0      0      0      0      0      0   \n",
      "2016-12-25      0      0      0       0      0      0      0      0      0   \n",
      "...           ...    ...    ...     ...    ...    ...    ...    ...    ...   \n",
      "2021-10-24      0      0      0       0      0      0      0      0      0   \n",
      "2021-10-31      0      0      0       0      0      0      0      0      0   \n",
      "2021-11-07      0      0      0       0      0      0      0      0      0   \n",
      "2021-11-14      0      0      0       0      0      0      0      0      0   \n",
      "2021-11-21      0      0      0       0      0      0      0      0      0   \n",
      "\n",
      "            도봉구 역  \n",
      "date               \n",
      "2016-11-27      0  \n",
      "2016-12-04      0  \n",
      "2016-12-11      0  \n",
      "2016-12-18      0  \n",
      "2016-12-25      0  \n",
      "...           ...  \n",
      "2021-10-24      0  \n",
      "2021-10-31      0  \n",
      "2021-11-07      0  \n",
      "2021-11-14      0  \n",
      "2021-11-21      0  \n",
      "\n",
      "[261 rows x 10 columns]\n"
     ]
    }
   ],
   "source": [
    "# 마지막 isPartial을 제거하고 result에서 row로 추가해나감 \n",
    "result = pd.concat([result, (interest_over_time_df.drop('isPartial', axis=1))], axis=1)\n",
    "\n",
    "print(result)"
   ]
  },
  {
   "cell_type": "code",
   "execution_count": 75,
   "metadata": {},
   "outputs": [],
   "source": [
    "keywords = ['은평구 역', '동작구 역', '마포구 역', '서대문구 역', '서초구 역']"
   ]
  },
  {
   "cell_type": "code",
   "execution_count": 76,
   "metadata": {},
   "outputs": [],
   "source": [
    "# 결과를 가져오기 (5년 정보)\n",
    "pytrends.build_payload(keywords,timeframe='today 5-y', cat=71)\n",
    "interest_over_time_df = pytrends.interest_over_time() "
   ]
  },
  {
   "cell_type": "code",
   "execution_count": 77,
   "metadata": {},
   "outputs": [
    {
     "name": "stdout",
     "output_type": "stream",
     "text": [
      "            강남구 역  강동구 역  강북구 역  동대문구 역  관악구 역  송파구 역  구로구 역  금천구 역  노원구 역  \\\n",
      "date                                                                         \n",
      "2016-11-27      0      0      0       0      0      0      0      0      0   \n",
      "2016-12-04      0      0      0       0      0      0      0      0      0   \n",
      "2016-12-11      0      0      0       0      0      0      0      0      0   \n",
      "2016-12-18      0      0      0       0      0      0      0      0      0   \n",
      "2016-12-25      0      0      0       0      0      0      0      0      0   \n",
      "...           ...    ...    ...     ...    ...    ...    ...    ...    ...   \n",
      "2021-10-24      0      0      0       0      0      0      0      0      0   \n",
      "2021-10-31      0      0      0       0      0      0      0      0      0   \n",
      "2021-11-07      0      0      0       0      0      0      0      0      0   \n",
      "2021-11-14      0      0      0       0      0      0      0      0      0   \n",
      "2021-11-21      0      0      0       0      0      0      0      0      0   \n",
      "\n",
      "            도봉구 역  은평구 역  동작구 역  마포구 역  서대문구 역  서초구 역  \n",
      "date                                                   \n",
      "2016-11-27      0      0      0      0       0      0  \n",
      "2016-12-04      0      0      0      0       0      0  \n",
      "2016-12-11      0      0      0      0       0      0  \n",
      "2016-12-18      0      0      0      0       0      0  \n",
      "2016-12-25      0      0      0      0       0      0  \n",
      "...           ...    ...    ...    ...     ...    ...  \n",
      "2021-10-24      0      0      0      0       0      0  \n",
      "2021-10-31      0      0      0      0       0      0  \n",
      "2021-11-07      0      0      0      0       0      0  \n",
      "2021-11-14      0      0      0      0       0      0  \n",
      "2021-11-21      0      0      0      0       0      0  \n",
      "\n",
      "[261 rows x 15 columns]\n"
     ]
    }
   ],
   "source": [
    "# 마지막 isPartial을 제거하고 result에서 row로 추가해나감 \n",
    "result = pd.concat([result, (interest_over_time_df.drop('isPartial', axis=1))], axis=1)\n",
    "\n",
    "print(result)"
   ]
  },
  {
   "cell_type": "code",
   "execution_count": 78,
   "metadata": {},
   "outputs": [],
   "source": [
    "keywords = ['성동구 역', '성북구 역', '광진구 역', '양천구 역', '강서구 역']"
   ]
  },
  {
   "cell_type": "code",
   "execution_count": 79,
   "metadata": {},
   "outputs": [],
   "source": [
    "# 결과를 가져오기 (5년 정보)\n",
    "pytrends.build_payload(keywords,timeframe='today 5-y', cat=71)\n",
    "interest_over_time_df = pytrends.interest_over_time()"
   ]
  },
  {
   "cell_type": "code",
   "execution_count": 80,
   "metadata": {},
   "outputs": [
    {
     "name": "stdout",
     "output_type": "stream",
     "text": [
      "            강남구 역  강동구 역  강북구 역  동대문구 역  관악구 역  송파구 역  구로구 역  금천구 역  노원구 역  \\\n",
      "date                                                                         \n",
      "2016-11-27      0      0      0       0      0      0      0      0      0   \n",
      "2016-12-04      0      0      0       0      0      0      0      0      0   \n",
      "2016-12-11      0      0      0       0      0      0      0      0      0   \n",
      "2016-12-18      0      0      0       0      0      0      0      0      0   \n",
      "2016-12-25      0      0      0       0      0      0      0      0      0   \n",
      "...           ...    ...    ...     ...    ...    ...    ...    ...    ...   \n",
      "2021-10-24      0      0      0       0      0      0      0      0      0   \n",
      "2021-10-31      0      0      0       0      0      0      0      0      0   \n",
      "2021-11-07      0      0      0       0      0      0      0      0      0   \n",
      "2021-11-14      0      0      0       0      0      0      0      0      0   \n",
      "2021-11-21      0      0      0       0      0      0      0      0      0   \n",
      "\n",
      "            도봉구 역  은평구 역  동작구 역  마포구 역  서대문구 역  서초구 역  성동구 역  성북구 역  광진구 역  \\\n",
      "date                                                                         \n",
      "2016-11-27      0      0      0      0       0      0      0      0      0   \n",
      "2016-12-04      0      0      0      0       0      0      0      0      0   \n",
      "2016-12-11      0      0      0      0       0      0      0      0      0   \n",
      "2016-12-18      0      0      0      0       0      0      0      0      0   \n",
      "2016-12-25      0      0      0      0       0      0      0      0      0   \n",
      "...           ...    ...    ...    ...     ...    ...    ...    ...    ...   \n",
      "2021-10-24      0      0      0      0       0      0      0      0      0   \n",
      "2021-10-31      0      0      0      0       0      0      0      0      0   \n",
      "2021-11-07      0      0      0      0       0      0      0      0      0   \n",
      "2021-11-14      0      0      0      0       0      0      0      0      0   \n",
      "2021-11-21      0      0      0      0       0      0      0      0      0   \n",
      "\n",
      "            양천구 역  강서구 역  \n",
      "date                      \n",
      "2016-11-27      0      0  \n",
      "2016-12-04      0      0  \n",
      "2016-12-11      0      0  \n",
      "2016-12-18      0      0  \n",
      "2016-12-25      0      0  \n",
      "...           ...    ...  \n",
      "2021-10-24      0      0  \n",
      "2021-10-31      0      0  \n",
      "2021-11-07      0      0  \n",
      "2021-11-14      0      0  \n",
      "2021-11-21      0      0  \n",
      "\n",
      "[261 rows x 20 columns]\n"
     ]
    }
   ],
   "source": [
    "# 마지막 isPartial을 제거하고 result에서 row로 추가해나감 \n",
    "result = pd.concat([result, (interest_over_time_df.drop('isPartial', axis=1))], axis=1)\n",
    "\n",
    "print(result)"
   ]
  },
  {
   "cell_type": "code",
   "execution_count": 81,
   "metadata": {},
   "outputs": [],
   "source": [
    "keywords = ['용산구 역', '영등포구 역', '종로구 역', '중구 역', '중량구 역']"
   ]
  },
  {
   "cell_type": "code",
   "execution_count": 82,
   "metadata": {},
   "outputs": [],
   "source": [
    "# 결과를 가져오기 (5년 정보)\n",
    "pytrends.build_payload(keywords,timeframe='today 5-y', cat=71)\n",
    "interest_over_time_df = pytrends.interest_over_time() "
   ]
  },
  {
   "cell_type": "code",
   "execution_count": 83,
   "metadata": {},
   "outputs": [
    {
     "name": "stdout",
     "output_type": "stream",
     "text": [
      "            강남구 역  강동구 역  강북구 역  동대문구 역  관악구 역  송파구 역  구로구 역  금천구 역  노원구 역  \\\n",
      "date                                                                         \n",
      "2016-11-27      0      0      0       0      0      0      0      0      0   \n",
      "2016-12-04      0      0      0       0      0      0      0      0      0   \n",
      "2016-12-11      0      0      0       0      0      0      0      0      0   \n",
      "2016-12-18      0      0      0       0      0      0      0      0      0   \n",
      "2016-12-25      0      0      0       0      0      0      0      0      0   \n",
      "...           ...    ...    ...     ...    ...    ...    ...    ...    ...   \n",
      "2021-10-24      0      0      0       0      0      0      0      0      0   \n",
      "2021-10-31      0      0      0       0      0      0      0      0      0   \n",
      "2021-11-07      0      0      0       0      0      0      0      0      0   \n",
      "2021-11-14      0      0      0       0      0      0      0      0      0   \n",
      "2021-11-21      0      0      0       0      0      0      0      0      0   \n",
      "\n",
      "            도봉구 역  ...  성동구 역  성북구 역  광진구 역  양천구 역  강서구 역  용산구 역  영등포구 역  \\\n",
      "date               ...                                                     \n",
      "2016-11-27      0  ...      0      0      0      0      0      0       0   \n",
      "2016-12-04      0  ...      0      0      0      0      0      0       0   \n",
      "2016-12-11      0  ...      0      0      0      0      0      0       0   \n",
      "2016-12-18      0  ...      0      0      0      0      0      0       0   \n",
      "2016-12-25      0  ...      0      0      0      0      0      0       0   \n",
      "...           ...  ...    ...    ...    ...    ...    ...    ...     ...   \n",
      "2021-10-24      0  ...      0      0      0      0      0      0       0   \n",
      "2021-10-31      0  ...      0      0      0      0      0      0       0   \n",
      "2021-11-07      0  ...      0      0      0      0      0      0       0   \n",
      "2021-11-14      0  ...      0      0      0      0      0      0       0   \n",
      "2021-11-21      0  ...      0      0      0      0      0      0       0   \n",
      "\n",
      "            종로구 역  중구 역  중량구 역  \n",
      "date                            \n",
      "2016-11-27      0     0      0  \n",
      "2016-12-04      0     0      0  \n",
      "2016-12-11      0     0      0  \n",
      "2016-12-18      0     0      0  \n",
      "2016-12-25      0     0      0  \n",
      "...           ...   ...    ...  \n",
      "2021-10-24      0     0      0  \n",
      "2021-10-31      0     0      0  \n",
      "2021-11-07      0     0      0  \n",
      "2021-11-14      0     0      0  \n",
      "2021-11-21      0     0      0  \n",
      "\n",
      "[261 rows x 25 columns]\n"
     ]
    }
   ],
   "source": [
    "# 마지막 isPartial을 제거하고 result에서 row로 추가해나감 \n",
    "result = pd.concat([result, (interest_over_time_df.drop('isPartial', axis=1))], axis=1)\n",
    "\n",
    "print(result)"
   ]
  },
  {
   "cell_type": "code",
   "execution_count": 84,
   "metadata": {},
   "outputs": [],
   "source": [
    "result.to_csv('C:/Users/Public/crawling_station.csv', encoding='utf8')"
   ]
  }
 ],
 "metadata": {
  "kernelspec": {
   "display_name": "Python 3",
   "language": "python",
   "name": "python3"
  },
  "language_info": {
   "codemirror_mode": {
    "name": "ipython",
    "version": 3
   },
   "file_extension": ".py",
   "mimetype": "text/x-python",
   "name": "python",
   "nbconvert_exporter": "python",
   "pygments_lexer": "ipython3",
   "version": "3.7.1"
  }
 },
 "nbformat": 4,
 "nbformat_minor": 2
}
