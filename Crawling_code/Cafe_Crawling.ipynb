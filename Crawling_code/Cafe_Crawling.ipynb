{
 "cells": [
  {
   "cell_type": "markdown",
   "metadata": {},
   "source": [
    "# -  pytrends를 활용한 구 별 카페 구글 트렌드 5년 Data Crawilng "
   ]
  },
  {
   "cell_type": "code",
   "execution_count": 77,
   "metadata": {},
   "outputs": [],
   "source": [
    "import pytrends\n",
    "from pytrends.request import TrendReq\n",
    "import pandas as pd"
   ]
  },
  {
   "cell_type": "code",
   "execution_count": 78,
   "metadata": {},
   "outputs": [],
   "source": [
    "# 구글 트렌드 연결\n",
    "pytrends = TrendReq()"
   ]
  },
  {
   "cell_type": "code",
   "execution_count": 79,
   "metadata": {},
   "outputs": [],
   "source": [
    "keywords = ['강남구 카페', '강동구 카페', '강북구 카페', '강서구 카페', '관악구 카페']"
   ]
  },
  {
   "cell_type": "code",
   "execution_count": 80,
   "metadata": {},
   "outputs": [],
   "source": [
    "# 결과를 가져오기 (5년 정보)\n",
    "pytrends.build_payload(keywords,timeframe='today 5-y', cat=71)\n",
    "interest_over_time_df = pytrends.interest_over_time() "
   ]
  },
  {
   "cell_type": "code",
   "execution_count": 81,
   "metadata": {},
   "outputs": [
    {
     "name": "stdout",
     "output_type": "stream",
     "text": [
      "            강남구 카페  강동구 카페  강북구 카페  강서구 카페  관악구 카페\n",
      "date                                              \n",
      "2016-11-27       0       0       0       0       0\n",
      "2016-12-04       0       0       0       0       0\n",
      "2016-12-11       0       0       0       0       0\n",
      "2016-12-18       0       0       0       0       0\n",
      "2016-12-25       0       0       0       0       0\n",
      "...            ...     ...     ...     ...     ...\n",
      "2021-10-24       0       0       0       0       0\n",
      "2021-10-31       0       0       0       0       0\n",
      "2021-11-07       0       0       0       0       0\n",
      "2021-11-14       0       0       0       0       0\n",
      "2021-11-21       0       0       0       0       0\n",
      "\n",
      "[261 rows x 5 columns]\n"
     ]
    }
   ],
   "source": [
    "# 마지막 isPartial을 제거하고 result 저장 \n",
    "result = interest_over_time_df.drop('isPartial', axis=1)\n",
    "\n",
    "print(result)"
   ]
  },
  {
   "cell_type": "code",
   "execution_count": 82,
   "metadata": {},
   "outputs": [],
   "source": [
    "keywords = ['동대문구 카페', '동작구 카페', '영등포구 카페', '서대문구 카페', '서초구 카페']"
   ]
  },
  {
   "cell_type": "code",
   "execution_count": 83,
   "metadata": {},
   "outputs": [],
   "source": [
    "# 결과를 가져오기 (5년 정보)\n",
    "pytrends.build_payload(keywords,timeframe='today 5-y', cat=71)\n",
    "interest_over_time_df = pytrends.interest_over_time() "
   ]
  },
  {
   "cell_type": "code",
   "execution_count": 84,
   "metadata": {},
   "outputs": [
    {
     "name": "stdout",
     "output_type": "stream",
     "text": [
      "            강남구 카페  강동구 카페  강북구 카페  강서구 카페  관악구 카페  동대문구 카페  동작구 카페  영등포구 카페  \\\n",
      "date                                                                           \n",
      "2016-11-27       0       0       0       0       0        0       0        0   \n",
      "2016-12-04       0       0       0       0       0        0       0        0   \n",
      "2016-12-11       0       0       0       0       0        0       0        0   \n",
      "2016-12-18       0       0       0       0       0        0       0        0   \n",
      "2016-12-25       0       0       0       0       0        0       0        0   \n",
      "...            ...     ...     ...     ...     ...      ...     ...      ...   \n",
      "2021-10-24       0       0       0       0       0        0       0        0   \n",
      "2021-10-31       0       0       0       0       0        0       0        0   \n",
      "2021-11-07       0       0       0       0       0        0       0        0   \n",
      "2021-11-14       0       0       0       0       0        0       0        0   \n",
      "2021-11-21       0       0       0       0       0        0       0        0   \n",
      "\n",
      "            서대문구 카페  서초구 카페  \n",
      "date                         \n",
      "2016-11-27        0       0  \n",
      "2016-12-04        0       0  \n",
      "2016-12-11        0       0  \n",
      "2016-12-18        0       0  \n",
      "2016-12-25        0       0  \n",
      "...             ...     ...  \n",
      "2021-10-24        0       0  \n",
      "2021-10-31        0       0  \n",
      "2021-11-07        0       0  \n",
      "2021-11-14        0       0  \n",
      "2021-11-21        0       0  \n",
      "\n",
      "[261 rows x 10 columns]\n"
     ]
    }
   ],
   "source": [
    "# 마지막 isPartial을 제거하고 result에서 row로 추가해나감 \n",
    "result = pd.concat([result, (interest_over_time_df.drop('isPartial', axis=1))], axis=1)\n",
    "\n",
    "print(result)"
   ]
  },
  {
   "cell_type": "code",
   "execution_count": 75,
   "metadata": {},
   "outputs": [],
   "source": [
    "keywords = ['성동구 카페', '성북구 카페', '송파구 카페', '양천구 카페', '마포구 카페']"
   ]
  },
  {
   "cell_type": "code",
   "execution_count": 85,
   "metadata": {},
   "outputs": [],
   "source": [
    "# 결과를 가져오기 (5년 정보)\n",
    "pytrends.build_payload(keywords,timeframe='today 5-y', cat=71)\n",
    "interest_over_time_df = pytrends.interest_over_time() "
   ]
  },
  {
   "cell_type": "code",
   "execution_count": 86,
   "metadata": {},
   "outputs": [
    {
     "name": "stdout",
     "output_type": "stream",
     "text": [
      "            강남구 카페  강동구 카페  강북구 카페  강서구 카페  관악구 카페  동대문구 카페  동작구 카페  영등포구 카페  \\\n",
      "date                                                                           \n",
      "2016-11-27       0       0       0       0       0        0       0        0   \n",
      "2016-12-04       0       0       0       0       0        0       0        0   \n",
      "2016-12-11       0       0       0       0       0        0       0        0   \n",
      "2016-12-18       0       0       0       0       0        0       0        0   \n",
      "2016-12-25       0       0       0       0       0        0       0        0   \n",
      "...            ...     ...     ...     ...     ...      ...     ...      ...   \n",
      "2021-10-24       0       0       0       0       0        0       0        0   \n",
      "2021-10-31       0       0       0       0       0        0       0        0   \n",
      "2021-11-07       0       0       0       0       0        0       0        0   \n",
      "2021-11-14       0       0       0       0       0        0       0        0   \n",
      "2021-11-21       0       0       0       0       0        0       0        0   \n",
      "\n",
      "            서대문구 카페  서초구 카페  동대문구 카페  동작구 카페  영등포구 카페  서대문구 카페  서초구 카페  \n",
      "date                                                                    \n",
      "2016-11-27        0       0        0       0        0        0       0  \n",
      "2016-12-04        0       0        0       0        0        0       0  \n",
      "2016-12-11        0       0        0       0        0        0       0  \n",
      "2016-12-18        0       0        0       0        0        0       0  \n",
      "2016-12-25        0       0        0       0        0        0       0  \n",
      "...             ...     ...      ...     ...      ...      ...     ...  \n",
      "2021-10-24        0       0        0       0        0        0       0  \n",
      "2021-10-31        0       0        0       0        0        0       0  \n",
      "2021-11-07        0       0        0       0        0        0       0  \n",
      "2021-11-14        0       0        0       0        0        0       0  \n",
      "2021-11-21        0       0        0       0        0        0       0  \n",
      "\n",
      "[261 rows x 15 columns]\n"
     ]
    }
   ],
   "source": [
    "# 마지막 isPartial을 제거하고 result에서 row로 추가해나감 \n",
    "result = pd.concat([result, (interest_over_time_df.drop('isPartial', axis=1))], axis=1)\n",
    "\n",
    "print(result)"
   ]
  },
  {
   "cell_type": "code",
   "execution_count": 87,
   "metadata": {},
   "outputs": [],
   "source": [
    "keywords = ['용산구 카페', '은평구 카페', '종로구 카페', '중구 카페', '중량구 카페']"
   ]
  },
  {
   "cell_type": "code",
   "execution_count": 88,
   "metadata": {},
   "outputs": [],
   "source": [
    "# 결과를 가져오기 (5년 정보)\n",
    "pytrends.build_payload(keywords,timeframe='today 5-y', cat=71)\n",
    "interest_over_time_df = pytrends.interest_over_time() "
   ]
  },
  {
   "cell_type": "code",
   "execution_count": 89,
   "metadata": {},
   "outputs": [
    {
     "name": "stdout",
     "output_type": "stream",
     "text": [
      "            강남구 카페  강동구 카페  강북구 카페  강서구 카페  관악구 카페  동대문구 카페  동작구 카페  영등포구 카페  \\\n",
      "date                                                                           \n",
      "2016-11-27       0       0       0       0       0        0       0        0   \n",
      "2016-12-04       0       0       0       0       0        0       0        0   \n",
      "2016-12-11       0       0       0       0       0        0       0        0   \n",
      "2016-12-18       0       0       0       0       0        0       0        0   \n",
      "2016-12-25       0       0       0       0       0        0       0        0   \n",
      "...            ...     ...     ...     ...     ...      ...     ...      ...   \n",
      "2021-10-24       0       0       0       0       0        0       0        0   \n",
      "2021-10-31       0       0       0       0       0        0       0        0   \n",
      "2021-11-07       0       0       0       0       0        0       0        0   \n",
      "2021-11-14       0       0       0       0       0        0       0        0   \n",
      "2021-11-21       0       0       0       0       0        0       0        0   \n",
      "\n",
      "            서대문구 카페  서초구 카페  동대문구 카페  동작구 카페  영등포구 카페  서대문구 카페  서초구 카페  \\\n",
      "date                                                                     \n",
      "2016-11-27        0       0        0       0        0        0       0   \n",
      "2016-12-04        0       0        0       0        0        0       0   \n",
      "2016-12-11        0       0        0       0        0        0       0   \n",
      "2016-12-18        0       0        0       0        0        0       0   \n",
      "2016-12-25        0       0        0       0        0        0       0   \n",
      "...             ...     ...      ...     ...      ...      ...     ...   \n",
      "2021-10-24        0       0        0       0        0        0       0   \n",
      "2021-10-31        0       0        0       0        0        0       0   \n",
      "2021-11-07        0       0        0       0        0        0       0   \n",
      "2021-11-14        0       0        0       0        0        0       0   \n",
      "2021-11-21        0       0        0       0        0        0       0   \n",
      "\n",
      "            용산구 카페  은평구 카페  종로구 카페  중구 카페  중량구 카페  \n",
      "date                                               \n",
      "2016-11-27       0       0       0      0       0  \n",
      "2016-12-04       0       0       0      0       0  \n",
      "2016-12-11       0       0       0      0       0  \n",
      "2016-12-18       0       0       0    100       0  \n",
      "2016-12-25       0       0       0      0       0  \n",
      "...            ...     ...     ...    ...     ...  \n",
      "2021-10-24       0       0       0      0       0  \n",
      "2021-10-31       0       0       0      0       0  \n",
      "2021-11-07       0       0       0      0       0  \n",
      "2021-11-14       0       0       0      0       0  \n",
      "2021-11-21       0       0       0      0       0  \n",
      "\n",
      "[261 rows x 20 columns]\n"
     ]
    }
   ],
   "source": [
    "# 마지막 isPartial을 제거하고 result에서 row로 추가해나감 \n",
    "result = pd.concat([result, (interest_over_time_df.drop('isPartial', axis=1))], axis=1)\n",
    "\n",
    "print(result)"
   ]
  },
  {
   "cell_type": "code",
   "execution_count": 91,
   "metadata": {},
   "outputs": [],
   "source": [
    "keywords = ['광진구 맛집', '구로구 맛집', '금천구 맛집', '노원구 맛집', '도봉구 맛집']"
   ]
  },
  {
   "cell_type": "code",
   "execution_count": 92,
   "metadata": {},
   "outputs": [],
   "source": [
    "# 결과를 가져오기 (5년 정보)\n",
    "pytrends.build_payload(keywords,timeframe='today 5-y', cat=71)\n",
    "interest_over_time_df = pytrends.interest_over_time() "
   ]
  },
  {
   "cell_type": "code",
   "execution_count": 93,
   "metadata": {},
   "outputs": [
    {
     "name": "stdout",
     "output_type": "stream",
     "text": [
      "            강남구 카페  강동구 카페  강북구 카페  강서구 카페  관악구 카페  동대문구 카페  동작구 카페  영등포구 카페  \\\n",
      "date                                                                           \n",
      "2016-11-27       0       0       0       0       0        0       0        0   \n",
      "2016-12-04       0       0       0       0       0        0       0        0   \n",
      "2016-12-11       0       0       0       0       0        0       0        0   \n",
      "2016-12-18       0       0       0       0       0        0       0        0   \n",
      "2016-12-25       0       0       0       0       0        0       0        0   \n",
      "...            ...     ...     ...     ...     ...      ...     ...      ...   \n",
      "2021-10-24       0       0       0       0       0        0       0        0   \n",
      "2021-10-31       0       0       0       0       0        0       0        0   \n",
      "2021-11-07       0       0       0       0       0        0       0        0   \n",
      "2021-11-14       0       0       0       0       0        0       0        0   \n",
      "2021-11-21       0       0       0       0       0        0       0        0   \n",
      "\n",
      "            서대문구 카페  서초구 카페  ...  용산구 카페  은평구 카페  종로구 카페  중구 카페  중량구 카페  \\\n",
      "date                         ...                                          \n",
      "2016-11-27        0       0  ...       0       0       0      0       0   \n",
      "2016-12-04        0       0  ...       0       0       0      0       0   \n",
      "2016-12-11        0       0  ...       0       0       0      0       0   \n",
      "2016-12-18        0       0  ...       0       0       0    100       0   \n",
      "2016-12-25        0       0  ...       0       0       0      0       0   \n",
      "...             ...     ...  ...     ...     ...     ...    ...     ...   \n",
      "2021-10-24        0       0  ...       0       0       0      0       0   \n",
      "2021-10-31        0       0  ...       0       0       0      0       0   \n",
      "2021-11-07        0       0  ...       0       0       0      0       0   \n",
      "2021-11-14        0       0  ...       0       0       0      0       0   \n",
      "2021-11-21        0       0  ...       0       0       0      0       0   \n",
      "\n",
      "            광진구 맛집  구로구 맛집  금천구 맛집  노원구 맛집  도봉구 맛집  \n",
      "date                                                \n",
      "2016-11-27       0       0       0       0       0  \n",
      "2016-12-04       0       0       0       0       0  \n",
      "2016-12-11      48       0       0       0      48  \n",
      "2016-12-18       0       0       0       0       0  \n",
      "2016-12-25       0       0       0       0       0  \n",
      "...            ...     ...     ...     ...     ...  \n",
      "2021-10-24       0       0       0       0       0  \n",
      "2021-10-31       0       0       0       0       0  \n",
      "2021-11-07       0       0       0       0       0  \n",
      "2021-11-14      40       0       0      40       0  \n",
      "2021-11-21       0       0       0       0       0  \n",
      "\n",
      "[261 rows x 25 columns]\n"
     ]
    }
   ],
   "source": [
    "# 마지막 isPartial을 제거하고 result에서 row로 추가해나감 \n",
    "result = pd.concat([result, (interest_over_time_df.drop('isPartial', axis=1))], axis=1)\n",
    "\n",
    "print(result)"
   ]
  },
  {
   "cell_type": "code",
   "execution_count": 94,
   "metadata": {},
   "outputs": [],
   "source": [
    "result.to_csv('C:/Users/Public/crawling_cafe.csv', encoding='utf8')"
   ]
  }
 ],
 "metadata": {
  "kernelspec": {
   "display_name": "Python 3",
   "language": "python",
   "name": "python3"
  },
  "language_info": {
   "codemirror_mode": {
    "name": "ipython",
    "version": 3
   },
   "file_extension": ".py",
   "mimetype": "text/x-python",
   "name": "python",
   "nbconvert_exporter": "python",
   "pygments_lexer": "ipython3",
   "version": "3.7.1"
  }
 },
 "nbformat": 4,
 "nbformat_minor": 2
}
