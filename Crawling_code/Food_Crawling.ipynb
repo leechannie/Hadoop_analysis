{
 "cells": [
  {
   "cell_type": "markdown",
   "metadata": {},
   "source": [
    "# -  pytrends를 활용한 구 별 맛집 구글 트렌드 5년 Data Crawilng "
   ]
  },
  {
   "cell_type": "markdown",
   "metadata": {},
   "source": [
    "#### * 구글 트렌드의 특성상 한 번에 5개의 키워드 밖에 검색하지 못 해 코드를 반복해서 사용함"
   ]
  },
  {
   "cell_type": "code",
   "execution_count": 1,
   "metadata": {},
   "outputs": [
    {
     "name": "stderr",
     "output_type": "stream",
     "text": [
      "C:\\ProgramData\\Anaconda3\\lib\\site-packages\\pandas\\compat\\_optional.py:138: UserWarning: Pandas requires version '2.7.0' or newer of 'numexpr' (version '2.6.8' currently installed).\n",
      "  warnings.warn(msg, UserWarning)\n"
     ]
    }
   ],
   "source": [
    "import pytrends\n",
    "from pytrends.request import TrendReq\n",
    "import pandas as pd"
   ]
  },
  {
   "cell_type": "code",
   "execution_count": 2,
   "metadata": {},
   "outputs": [],
   "source": [
    "# 구글 트렌드 연결\n",
    "pytrends = TrendReq()"
   ]
  },
  {
   "cell_type": "code",
   "execution_count": 7,
   "metadata": {},
   "outputs": [],
   "source": [
    "keywords = ['강남구 맛집', '강동구 맛집', '강북구 맛집', '강서구 맛집', '관악구 맛집']"
   ]
  },
  {
   "cell_type": "code",
   "execution_count": 8,
   "metadata": {},
   "outputs": [],
   "source": [
    "# 결과를 가져오기 (5년 정보)\n",
    "pytrends.build_payload(keywords,timeframe='today 5-y', cat=71)\n",
    "interest_over_time_df = pytrends.interest_over_time() "
   ]
  },
  {
   "cell_type": "code",
   "execution_count": 9,
   "metadata": {
    "scrolled": true
   },
   "outputs": [
    {
     "name": "stdout",
     "output_type": "stream",
     "text": [
      "            강남구 맛집  강동구 맛집  강북구 맛집  강서구 맛집  관악구 맛집\n",
      "date                                              \n",
      "2016-11-27       0      39       0       0       0\n",
      "2016-12-04      37      73       0       0       0\n",
      "2016-12-11       0       0       0       0       0\n",
      "2016-12-18       0       0       0      39       0\n",
      "2016-12-25       0       0       0      39       0\n",
      "...            ...     ...     ...     ...     ...\n",
      "2021-10-17       0      24       0       0       0\n",
      "2021-10-24       0       0       0       0       0\n",
      "2021-10-31       0      24       0      24       0\n",
      "2021-11-07       0       0       0       0       0\n",
      "2021-11-14       0       0       0      27       0\n",
      "\n",
      "[260 rows x 5 columns]\n"
     ]
    }
   ],
   "source": [
    "# 마지막 isPartial을 제거하고 result 저장 \n",
    "result = interest_over_time_df.drop('isPartial', axis=1)\n",
    "\n",
    "print(result)"
   ]
  },
  {
   "cell_type": "code",
   "execution_count": 10,
   "metadata": {},
   "outputs": [],
   "source": [
    "keywords = ['광진구 맛집', '구로구 맛집', '금천구 맛집', '노원구 맛집', '도봉구 맛집']"
   ]
  },
  {
   "cell_type": "code",
   "execution_count": 11,
   "metadata": {},
   "outputs": [],
   "source": [
    "# 결과를 가져오기 (5년 정보)\n",
    "pytrends.build_payload(keywords,timeframe='today 5-y', cat=71)\n",
    "interest_over_time_df = pytrends.interest_over_time() "
   ]
  },
  {
   "cell_type": "code",
   "execution_count": 12,
   "metadata": {},
   "outputs": [
    {
     "name": "stdout",
     "output_type": "stream",
     "text": [
      "            강남구 맛집  강동구 맛집  강북구 맛집  강서구 맛집  관악구 맛집  광진구 맛집  구로구 맛집  금천구 맛집  \\\n",
      "date                                                                         \n",
      "2016-11-27       0      39       0       0       0       0       0       0   \n",
      "2016-12-04      37      73       0       0       0      48       0       0   \n",
      "2016-12-11       0       0       0       0       0       0       0       0   \n",
      "2016-12-18       0       0       0      39       0       0       0       0   \n",
      "2016-12-25       0       0       0      39       0       0       0       0   \n",
      "...            ...     ...     ...     ...     ...     ...     ...     ...   \n",
      "2021-10-17       0      24       0       0       0       0       0       0   \n",
      "2021-10-24       0       0       0       0       0       0       0       0   \n",
      "2021-10-31       0      24       0      24       0       0       0       0   \n",
      "2021-11-07       0       0       0       0       0      32       0       0   \n",
      "2021-11-14       0       0       0      27       0      35       0       0   \n",
      "\n",
      "            노원구 맛집  도봉구 맛집  \n",
      "date                        \n",
      "2016-11-27       0      51  \n",
      "2016-12-04       0       0  \n",
      "2016-12-11       0       0  \n",
      "2016-12-18       0       0  \n",
      "2016-12-25       0       0  \n",
      "...            ...     ...  \n",
      "2021-10-17       0       0  \n",
      "2021-10-24       0       0  \n",
      "2021-10-31       0       0  \n",
      "2021-11-07       0       0  \n",
      "2021-11-14       0       0  \n",
      "\n",
      "[260 rows x 10 columns]\n"
     ]
    }
   ],
   "source": [
    "# 마지막 isPartial을 제거하고 result에서 row로 추가해나감 \n",
    "result = pd.concat([result, (interest_over_time_df.drop('isPartial', axis=1))], axis=1)\n",
    "\n",
    "print(result)"
   ]
  },
  {
   "cell_type": "code",
   "execution_count": 13,
   "metadata": {},
   "outputs": [],
   "source": [
    "keywords = ['동대문구 맛집', '동작구 맛집', '마포구 맛집', '서대문구 맛집', '서초구 맛집']"
   ]
  },
  {
   "cell_type": "code",
   "execution_count": 14,
   "metadata": {},
   "outputs": [],
   "source": [
    "# 결과를 가져오기 (5년 정보)\n",
    "pytrends.build_payload(keywords,timeframe='today 5-y', cat=71)\n",
    "interest_over_time_df = pytrends.interest_over_time() "
   ]
  },
  {
   "cell_type": "code",
   "execution_count": 15,
   "metadata": {},
   "outputs": [
    {
     "name": "stdout",
     "output_type": "stream",
     "text": [
      "            강남구 맛집  강동구 맛집  강북구 맛집  강서구 맛집  관악구 맛집  광진구 맛집  구로구 맛집  금천구 맛집  \\\n",
      "date                                                                         \n",
      "2016-11-27       0      39       0       0       0       0       0       0   \n",
      "2016-12-04      37      73       0       0       0      48       0       0   \n",
      "2016-12-11       0       0       0       0       0       0       0       0   \n",
      "2016-12-18       0       0       0      39       0       0       0       0   \n",
      "2016-12-25       0       0       0      39       0       0       0       0   \n",
      "...            ...     ...     ...     ...     ...     ...     ...     ...   \n",
      "2021-10-17       0      24       0       0       0       0       0       0   \n",
      "2021-10-24       0       0       0       0       0       0       0       0   \n",
      "2021-10-31       0      24       0      24       0       0       0       0   \n",
      "2021-11-07       0       0       0       0       0      32       0       0   \n",
      "2021-11-14       0       0       0      27       0      35       0       0   \n",
      "\n",
      "            노원구 맛집  도봉구 맛집  동대문구 맛집  동작구 맛집  마포구 맛집  서대문구 맛집  서초구 맛집  \n",
      "date                                                                  \n",
      "2016-11-27       0      51        0       0       0        0       0  \n",
      "2016-12-04       0       0        0       0       0        0       0  \n",
      "2016-12-11       0       0        0       0      36        0       0  \n",
      "2016-12-18       0       0        0       0       0        0       0  \n",
      "2016-12-25       0       0        0       0       0        0       0  \n",
      "...            ...     ...      ...     ...     ...      ...     ...  \n",
      "2021-10-17       0       0        0       0       0        0       0  \n",
      "2021-10-24       0       0       24       0       0        0       0  \n",
      "2021-10-31       0       0        0       0       0        0       0  \n",
      "2021-11-07       0       0        0       0       0        0       0  \n",
      "2021-11-14       0       0        0       0      26        0       0  \n",
      "\n",
      "[260 rows x 15 columns]\n"
     ]
    }
   ],
   "source": [
    "# 마지막 isPartial을 제거하고 result에서 row로 추가해나감 \n",
    "result = pd.concat([result, (interest_over_time_df.drop('isPartial', axis=1))], axis=1)\n",
    "\n",
    "print(result)"
   ]
  },
  {
   "cell_type": "code",
   "execution_count": 16,
   "metadata": {},
   "outputs": [],
   "source": [
    "keywords = ['성동구 맛집', '성북구 맛집', '송파구 맛집', '양천구 맛집', '영등포구 맛집']"
   ]
  },
  {
   "cell_type": "code",
   "execution_count": 17,
   "metadata": {},
   "outputs": [],
   "source": [
    "# 결과를 가져오기 (5년 정보)\n",
    "pytrends.build_payload(keywords,timeframe='today 5-y', cat=71)\n",
    "interest_over_time_df = pytrends.interest_over_time() "
   ]
  },
  {
   "cell_type": "code",
   "execution_count": 18,
   "metadata": {},
   "outputs": [
    {
     "name": "stdout",
     "output_type": "stream",
     "text": [
      "            강남구 맛집  강동구 맛집  강북구 맛집  강서구 맛집  관악구 맛집  광진구 맛집  구로구 맛집  금천구 맛집  \\\n",
      "date                                                                         \n",
      "2016-11-27       0      39       0       0       0       0       0       0   \n",
      "2016-12-04      37      73       0       0       0      48       0       0   \n",
      "2016-12-11       0       0       0       0       0       0       0       0   \n",
      "2016-12-18       0       0       0      39       0       0       0       0   \n",
      "2016-12-25       0       0       0      39       0       0       0       0   \n",
      "...            ...     ...     ...     ...     ...     ...     ...     ...   \n",
      "2021-10-17       0      24       0       0       0       0       0       0   \n",
      "2021-10-24       0       0       0       0       0       0       0       0   \n",
      "2021-10-31       0      24       0      24       0       0       0       0   \n",
      "2021-11-07       0       0       0       0       0      32       0       0   \n",
      "2021-11-14       0       0       0      27       0      35       0       0   \n",
      "\n",
      "            노원구 맛집  도봉구 맛집  동대문구 맛집  동작구 맛집  마포구 맛집  서대문구 맛집  서초구 맛집  성동구 맛집  \\\n",
      "date                                                                           \n",
      "2016-11-27       0      51        0       0       0        0       0       0   \n",
      "2016-12-04       0       0        0       0       0        0       0       0   \n",
      "2016-12-11       0       0        0       0      36        0       0       0   \n",
      "2016-12-18       0       0        0       0       0        0       0       0   \n",
      "2016-12-25       0       0        0       0       0        0       0       0   \n",
      "...            ...     ...      ...     ...     ...      ...     ...     ...   \n",
      "2021-10-17       0       0        0       0       0        0       0       0   \n",
      "2021-10-24       0       0       24       0       0        0       0       0   \n",
      "2021-10-31       0       0        0       0       0        0       0       0   \n",
      "2021-11-07       0       0        0       0       0        0       0       0   \n",
      "2021-11-14       0       0        0       0      26        0       0       0   \n",
      "\n",
      "            성북구 맛집  송파구 맛집  양천구 맛집  영등포구 맛집  \n",
      "date                                         \n",
      "2016-11-27       0       0       0        0  \n",
      "2016-12-04       0       0       0        0  \n",
      "2016-12-11      39       0       0        0  \n",
      "2016-12-18       0       0       0        0  \n",
      "2016-12-25       0       0       0       41  \n",
      "...            ...     ...     ...      ...  \n",
      "2021-10-17       0       0       0        0  \n",
      "2021-10-24      25       0       0        0  \n",
      "2021-10-31       0       0       0        0  \n",
      "2021-11-07       0       0       0        0  \n",
      "2021-11-14       0      28       0        0  \n",
      "\n",
      "[260 rows x 20 columns]\n"
     ]
    }
   ],
   "source": [
    "# 마지막 isPartial을 제거하고 result에서 row로 추가해나감 \n",
    "result = pd.concat([result, (interest_over_time_df.drop('isPartial', axis=1))], axis=1)\n",
    "\n",
    "print(result)"
   ]
  },
  {
   "cell_type": "code",
   "execution_count": 19,
   "metadata": {},
   "outputs": [],
   "source": [
    "keywords = ['용산구 맛집', '은평구 맛집', '종로구 맛집', '중구 맛집', '중량구 맛집']"
   ]
  },
  {
   "cell_type": "code",
   "execution_count": 20,
   "metadata": {},
   "outputs": [],
   "source": [
    "# 결과를 가져오기 (5년 정보)\n",
    "pytrends.build_payload(keywords,timeframe='today 5-y', cat=71)\n",
    "interest_over_time_df = pytrends.interest_over_time() "
   ]
  },
  {
   "cell_type": "code",
   "execution_count": 21,
   "metadata": {},
   "outputs": [
    {
     "name": "stdout",
     "output_type": "stream",
     "text": [
      "            강남구 맛집  강동구 맛집  강북구 맛집  강서구 맛집  관악구 맛집  광진구 맛집  구로구 맛집  금천구 맛집  \\\n",
      "date                                                                         \n",
      "2016-11-27       0      39       0       0       0       0       0       0   \n",
      "2016-12-04      37      73       0       0       0      48       0       0   \n",
      "2016-12-11       0       0       0       0       0       0       0       0   \n",
      "2016-12-18       0       0       0      39       0       0       0       0   \n",
      "2016-12-25       0       0       0      39       0       0       0       0   \n",
      "...            ...     ...     ...     ...     ...     ...     ...     ...   \n",
      "2021-10-17       0      24       0       0       0       0       0       0   \n",
      "2021-10-24       0       0       0       0       0       0       0       0   \n",
      "2021-10-31       0      24       0      24       0       0       0       0   \n",
      "2021-11-07       0       0       0       0       0      32       0       0   \n",
      "2021-11-14       0       0       0      27       0      35       0       0   \n",
      "\n",
      "            노원구 맛집  도봉구 맛집  ...  성동구 맛집  성북구 맛집  송파구 맛집  양천구 맛집  영등포구 맛집  \\\n",
      "date                        ...                                            \n",
      "2016-11-27       0      51  ...       0       0       0       0        0   \n",
      "2016-12-04       0       0  ...       0       0       0       0        0   \n",
      "2016-12-11       0       0  ...       0      39       0       0        0   \n",
      "2016-12-18       0       0  ...       0       0       0       0        0   \n",
      "2016-12-25       0       0  ...       0       0       0       0       41   \n",
      "...            ...     ...  ...     ...     ...     ...     ...      ...   \n",
      "2021-10-17       0       0  ...       0       0       0       0        0   \n",
      "2021-10-24       0       0  ...       0      25       0       0        0   \n",
      "2021-10-31       0       0  ...       0       0       0       0        0   \n",
      "2021-11-07       0       0  ...       0       0       0       0        0   \n",
      "2021-11-14       0       0  ...       0       0      28       0        0   \n",
      "\n",
      "            용산구 맛집  은평구 맛집  종로구 맛집  중구 맛집  중량구 맛집  \n",
      "date                                               \n",
      "2016-11-27       0      39       0      0       0  \n",
      "2016-12-04       0       0      37     37       0  \n",
      "2016-12-11       0       0       0     38       0  \n",
      "2016-12-18       0       0       0      0       0  \n",
      "2016-12-25       0       0       0      0       0  \n",
      "...            ...     ...     ...    ...     ...  \n",
      "2021-10-17       0       0       0      0       0  \n",
      "2021-10-24       0       0       0      0       0  \n",
      "2021-10-31       0       0       0      0       0  \n",
      "2021-11-07       0       0      24     24       0  \n",
      "2021-11-14       0       0       0     27       0  \n",
      "\n",
      "[260 rows x 25 columns]\n"
     ]
    }
   ],
   "source": [
    "# 마지막 isPartial을 제거하고 result에서 row로 추가해나감 \n",
    "interest_over_time_df = pytrends.interest_over_time() \n",
    "result = pd.concat([result, (interest_over_time_df.drop('isPartial', axis=1))], axis=1)\n",
    "\n",
    "print(result)"
   ]
  },
  {
   "cell_type": "code",
   "execution_count": 23,
   "metadata": {},
   "outputs": [],
   "source": [
    "result.to_csv('C:/Users/Public/crawling_food.csv', encoding='utf8')"
   ]
  }
 ],
 "metadata": {
  "kernelspec": {
   "display_name": "Python 3",
   "language": "python",
   "name": "python3"
  },
  "language_info": {
   "codemirror_mode": {
    "name": "ipython",
    "version": 3
   },
   "file_extension": ".py",
   "mimetype": "text/x-python",
   "name": "python",
   "nbconvert_exporter": "python",
   "pygments_lexer": "ipython3",
   "version": "3.7.1"
  }
 },
 "nbformat": 4,
 "nbformat_minor": 2
}
